{
 "cells": [
  {
   "cell_type": "markdown",
   "id": "751d39d6",
   "metadata": {},
   "source": [
    "## Create a simple note entry form"
   ]
  },
  {
   "cell_type": "markdown",
   "id": "31dd2de9",
   "metadata": {},
   "source": [
    "This program creates a simple GUI form for writing notes and adding timestamp data to the note.\n",
    "Next week's lab exercises will have you modify this code to create note objects."
   ]
  },
  {
   "cell_type": "markdown",
   "id": "f62fb200",
   "metadata": {},
   "source": [
    "### Imports"
   ]
  },
  {
   "cell_type": "code",
   "execution_count": 4,
   "id": "1e192e2d",
   "metadata": {},
   "outputs": [],
   "source": [
    "import tkinter as tk\n",
    "from tkinter import ttk\n",
    "from tkinter import filedialog\n",
    "import datetime # one module for working with dates and times"
   ]
  },
  {
   "cell_type": "markdown",
   "id": "9e5bd25b",
   "metadata": {},
   "source": [
    "### Some datetime methods"
   ]
  },
  {
   "cell_type": "code",
   "execution_count": 5,
   "id": "ba03fe87",
   "metadata": {},
   "outputs": [
    {
     "name": "stdout",
     "output_type": "stream",
     "text": [
      "2024-03-27 21:11:15.245177\n",
      "2024-03-27 21:11:15.245177-04:00\n",
      "Eastern Daylight Time\n"
     ]
    }
   ],
   "source": [
    "# dates and times can be tricky. consult the datetime documentation.\n",
    "now = datetime.datetime.now() # gets the current date and time\n",
    "local_now = now.astimezone() # shows the local time and the GMT offset\n",
    "local_tz = local_now.tzinfo \n",
    "\n",
    "print(now)\n",
    "print(local_now)\n",
    "print(local_tz)\n"
   ]
  },
  {
   "cell_type": "markdown",
   "id": "46c4f1bc",
   "metadata": {},
   "source": [
    "### Create a new note form"
   ]
  },
  {
   "cell_type": "code",
   "execution_count": 6,
   "id": "d49c244f",
   "metadata": {
    "scrolled": true
   },
   "outputs": [],
   "source": [
    "# create a string of dummy text for practice notes\n",
    "lorem = 'Lorem ipsum dolor sit amet, consectetur adipiscing elit. Etiam sit amet suscipit mi, non porttitor mauris. Aliquam in lorem risus. Proin mauris mauris, varius ac vulputate sed, tempor nec lacus. Morbi sodales turpis in placerat semper. Donec bibendum blandit ante sit amet hendrerit.'\n",
    "\n",
    "# function for submitting (doing something) with the note title and note text\n",
    "# also creates some metadata\n",
    "\n",
    "def submit():\n",
    "    created = datetime.datetime.now()\n",
    "    title = note_title.get()\n",
    "    text = note_text.get('1.0', 'end').strip('\\n')\n",
    "    meta = f'created {created}, {local_tz}'\n",
    "    filetext=f\"{title}\\n{text}\\n{meta}\"\n",
    "    print(title)\n",
    "    print(text)\n",
    "    print(meta)\n",
    "    return filetext\n",
    "    \n",
    "def open_file():\n",
    "    filepath = filedialog.askopenfilename(initialdir=\"C:\\\\Users\\\\sdemp\\\\Documents\\\\GitHub\\\\Courses\\\\INST326\\\\test_files\",\n",
    "                                         filetypes=[(\"text files\", \"*.txt\"),\n",
    "                                         (\"all files\", \"*.*\")])\n",
    "    file = open(filepath, \"r\")\n",
    "    file_list = file.read().split('\\n')\n",
    "    file.close()\n",
    "    note_title.delete(0, 'end')\n",
    "    note_text.delete('1.0', 'end')\n",
    "    note_title.insert(0, file_list[0])\n",
    "    note_text.insert('1.0', file_list[1])\n",
    "    meta = file_list[2]\n",
    "    print(meta)\n",
    "    \n",
    "    \n",
    "\n",
    "def save_file():\n",
    "    file = filedialog.asksaveasfile(initialdir=\"C:\\\\Users\\\\sdemp\\\\Documents\\\\GitHub\\\\Courses\\\\INST326\\\\test_files\",\n",
    "                                          defaultextension=\".txt\", \n",
    "                                          filetypes=[(\"text file\", \".txt\"),\n",
    "                                         (\"all files\", \".*\")])\n",
    "    filetext=submit()\n",
    "    file.write(filetext)\n",
    "    file.close()\n",
    "    \n",
    "    \n",
    "\n",
    "# create the main window for our note form. Note the shift to calling it 'root'\n",
    "root = tk.Tk()\n",
    "root.geometry(\"600x300\")\n",
    "root.title('Note Form')\n",
    "root.config(bg='light gray')\n",
    "\n",
    "# create some labels for the note title and note text\n",
    "# we are using the grid layout. Notice the sticky='e' attribute. \n",
    "# this causes the label to 'stick' to the 'east' side of the grid cell\n",
    "title_label = tk.Label(root, bg='light gray', text='Note Title:')\n",
    "title_label.grid(padx=10, pady=10, row=1, column=0, sticky='e')\n",
    "\n",
    "text_label = tk.Label(root, bg='light gray', text='Note Text:')\n",
    "text_label.grid(padx=10, pady=10, row=2, column=0, sticky='e')\n",
    "\n",
    "# create our note title entry field\n",
    "note_title = tk.Entry(root, width=80)\n",
    "note_title.grid(padx=10, pady=10, row=1, column=1, sticky='w')\n",
    "note_title.insert(0, 'New note title') # adds default text (useful during development)\n",
    "\n",
    "# create our note text field\n",
    "note_text = tk.Text(root, height=10, width=60)\n",
    "note_text.grid(padx=10, pady=10, row=2, column=1)\n",
    "note_text.insert('1.0', lorem) # adds default text (useful during development)\n",
    "\n",
    "# note that the parameters for the Entry box and Text box are slightly different. \n",
    "\n",
    "# create some buttons and add them to the grid\n",
    "b1 = tk.Button(root, text='submit', command=submit)\n",
    "b1.grid(padx=10, pady=10, row=3, column=1, sticky='w')\n",
    "\n",
    "b2 = tk.Button(root, text='open file', command=open_file)\n",
    "b2.grid(padx=10, pady=10, row=4, column=1, sticky='w')\n",
    "\n",
    "b3 = tk.Button(root, text='save file', command=save_file)\n",
    "b3.grid(padx=10, pady=10, row=4, column=0)\n",
    "\n",
    "b4 = tk.Button(root, text='quit', command=root.destroy)\n",
    "b4.grid(padx=10, pady=10, row=3, column=0)\n",
    "\n",
    "root.mainloop()"
   ]
  },
  {
   "cell_type": "code",
   "execution_count": null,
   "id": "2f6ca167",
   "metadata": {},
   "outputs": [],
   "source": []
  },
  {
   "cell_type": "code",
   "execution_count": null,
   "id": "b77bf692",
   "metadata": {},
   "outputs": [],
   "source": []
  }
 ],
 "metadata": {
  "kernelspec": {
   "display_name": "Python 3 (ipykernel)",
   "language": "python",
   "name": "python3"
  },
  "language_info": {
   "codemirror_mode": {
    "name": "ipython",
    "version": 3
   },
   "file_extension": ".py",
   "mimetype": "text/x-python",
   "name": "python",
   "nbconvert_exporter": "python",
   "pygments_lexer": "ipython3",
   "version": "3.11.4"
  }
 },
 "nbformat": 4,
 "nbformat_minor": 5
}
